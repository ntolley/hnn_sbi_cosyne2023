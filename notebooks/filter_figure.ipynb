{
 "cells": [
  {
   "cell_type": "code",
   "execution_count": 2,
   "metadata": {},
   "outputs": [],
   "source": [
    "import torch\n",
    "import os\n",
    "import glob\n",
    "import pickle\n",
    "\n",
    "if 'DISPLAY' in os.environ:\n",
    "    del os.environ['DISPLAY']\n",
    "    \n",
    "user_env = os.environ['USER']\n",
    "job_env = os.environ['SLURM_JOB_ID']\n",
    "import sys\n",
    "sys.path.append('../externals/hnn-core')\n",
    "sys.path.append('../../externals/hnn-core')\n",
    "sys.path.append('../code')\n",
    "from tqdm import tqdm\n",
    "from torch import optim\n",
    "import numpy as np\n",
    "import datetime\n",
    "from pathlib import Path\n",
    "from utils import (load_prerun_simulations, filter_borders, filter_nzeros, filter_peakproeminence,\n",
    "                   filter_removeoutliers, filter_peaktime, linear_scale_forward, simulator_hnn,\n",
    "                   UniformPrior, PriorBetaFiltered, build_flow, hnn_beta_param_function,\n",
    "                   linear_scale_array, load_posterior)\n",
    "from functools import partial\n",
    "import joblib\n",
    "from distributed import Client\n",
    "from dask_jobqueue import SLURMCluster\n",
    "import dask\n",
    "from joblib import Parallel, delayed\n",
    "import datetime\n",
    "import dask.bag as db\n",
    "from sbi import inference as sbi_inference\n",
    "from hnn_core import calcium_model, jones_2009_model\n",
    "import matplotlib.pyplot as plt\n",
    "from matplotlib.ticker import FormatStrFormatter\n",
    "import dill\n",
    "import pandas as pd\n",
    "import seaborn as sns\n",
    "sns.set()\n",
    "sns.set_style(\"white\")"
   ]
  },
  {
   "cell_type": "code",
   "execution_count": 4,
   "metadata": {},
   "outputs": [],
   "source": [
    "data_path = '../data'\n",
    "\n",
    "with open(f'{data_path}/sbi_sims/prior_dict.pkl', 'rb') as output_file:\n",
    "    prior_dict = dill.load(output_file)\n",
    "    \n",
    "\n",
    "with open(f'{data_path}/posteriors/posterior_dicts.pkl', 'rb') as output_file:\n",
    "    posterior_state_dicts = dill.load(output_file)\n",
    "with open(f'{data_path}/sbi_sims/prior_dict.pkl', 'rb') as output_file:\n",
    "    prior_dict = dill.load(output_file)\n",
    "with open(f'{data_path}/sbi_sims/sim_metadata.pkl', 'rb') as output_file:\n",
    "    sim_metadata = dill.load(output_file)\n",
    "with open(f'{data_path}/posteriors/posterior_metadata.pkl', 'rb') as output_file:\n",
    "    posterior_metadata = dill.load(output_file)\n",
    "\n",
    "dt = sim_metadata['dt'] # Sampling interval used for simulation\n",
    "tstop = sim_metadata['tstop'] # Sampling interval used for simulation\n",
    "window_samples = posterior_metadata['window_samples']\n",
    "\n",
    "dpl_orig, theta_orig = np.load(f'{data_path}/sbi_sims/dpl_sbi_1.npy'), np.load(f'{data_path}/sbi_sims/theta_sbi_1.npy')\n",
    "dpl_orig = dpl_orig[:,window_samples[0]:window_samples[1]]\n",
    "\n",
    "net = jones_2009_model()\n",
    "\n",
    "simulator = partial(simulator_hnn, prior_dict=prior_dict, param_function=hnn_beta_param_function,\n",
    "                    network_model=net, tstop=tstop, return_objects=True)"
   ]
  },
  {
   "cell_type": "code",
   "execution_count": 5,
   "metadata": {},
   "outputs": [
    {
     "data": {
      "text/plain": [
       "<All keys matched successfully>"
      ]
     },
     "execution_count": 5,
     "metadata": {},
     "output_type": "execute_result"
    }
   ],
   "source": [
    "with open(f'{data_path}/flows/prior_filtered_flow_1.pkl', 'rb') as output_file:\n",
    "    state_dict = dill.load(output_file)\n",
    "\n",
    "prior = PriorBetaFiltered(parameters=list(prior_dict.keys()))\n",
    "prior.flow.load_state_dict(state_dict)"
   ]
  },
  {
   "cell_type": "code",
   "execution_count": null,
   "metadata": {},
   "outputs": [],
   "source": []
  },
  {
   "cell_type": "code",
   "execution_count": null,
   "metadata": {},
   "outputs": [],
   "source": []
  },
  {
   "cell_type": "code",
   "execution_count": null,
   "metadata": {},
   "outputs": [],
   "source": []
  },
  {
   "cell_type": "code",
   "execution_count": 6,
   "metadata": {},
   "outputs": [],
   "source": [
    "filters = [filter_borders, filter_nzeros, filter_peakproeminence, filter_peaktime, filter_removeoutliers]\n",
    "# Filter simulations\n",
    "dpl_filter, theta_filter = dpl_orig, theta_orig\n",
    "for filter_func in filters:\n",
    "    dpl_filter, theta_filter = filter_func(dpl_filter, theta_filter)"
   ]
  },
  {
   "cell_type": "code",
   "execution_count": 7,
   "metadata": {},
   "outputs": [
    {
     "name": "stderr",
     "output_type": "stream",
     "text": [
      "100%|██████████| 5000/5000 [01:41<00:00, 49.19it/s]\n"
     ]
    }
   ],
   "source": [
    "prior_filtered = PriorBetaFiltered(parameters=list(prior_dict.keys()))\n",
    "optimizer = optim.Adam(prior_filtered.flow.parameters())\n",
    "\n",
    "num_iter = 5000\n",
    "for i in tqdm(range(num_iter)):\n",
    "    optimizer.zero_grad()\n",
    "    loss = -prior_filtered.flow.log_prob(inputs=theta_filter).mean()\n",
    "    loss.backward()\n",
    "    optimizer.step()\n",
    "state_dict = prior_filtered.flow.state_dict()"
   ]
  },
  {
   "cell_type": "code",
   "execution_count": null,
   "metadata": {},
   "outputs": [],
   "source": []
  },
  {
   "cell_type": "code",
   "execution_count": 8,
   "metadata": {},
   "outputs": [],
   "source": [
    "labelsize = 18\n",
    "titlesize = 18\n",
    "ticksize = 15\n",
    "alpha=0.5\n",
    "ylim = [-0.055, 0.029]\n",
    "xlim = [0, 500]\n",
    "xtimes = np.linspace(0, 500, dpl_filter.shape[1])\n",
    "\n",
    "plt.figure(figsize=(6,6))\n",
    "plt.subplot(2,1,1)\n",
    "orig_plot_data = dpl_orig[:50,:]\n",
    "_ = plt.plot(xtimes, orig_plot_data.T, color='k', alpha=alpha)\n",
    "plt.plot(xtimes, np.mean(orig_plot_data, axis=0), color='r')\n",
    "plt.xticks([])\n",
    "_ = plt.yticks(size=ticksize)\n",
    "plt.ylabel('Dipole (nAm)', size=labelsize)\n",
    "plt.ylim(ylim)\n",
    "plt.xlim(xlim)\n",
    "plt.title('Before Filtering', size=titlesize)\n",
    "\n",
    "\n",
    "plt.subplot(2,1,2)\n",
    "filtered_plot_data = dpl_filter[:50,:]\n",
    "_ = plt.plot(xtimes, filtered_plot_data.T, color='k', alpha=alpha)\n",
    "plt.plot(xtimes, np.mean(filtered_plot_data, axis=0), color='r')\n",
    "_ = plt.xticks(size=ticksize)\n",
    "_ = plt.yticks(size=ticksize)\n",
    "plt.xlabel('Time (ms)', size=labelsize)\n",
    "plt.ylabel('Dipole (nAm)', size=labelsize)\n",
    "plt.ylim(ylim)\n",
    "plt.xlim(xlim)\n",
    "plt.title('After Filtering', size=titlesize)\n",
    "\n",
    "plt.tight_layout()\n",
    "#plt.savefig('../figures/beta_filter.svg')"
   ]
  },
  {
   "cell_type": "code",
   "execution_count": 9,
   "metadata": {},
   "outputs": [],
   "source": [
    "num_sims = 1000\n",
    "theta_samples = prior_filtered.sample((num_sims,))"
   ]
  },
  {
   "cell_type": "code",
   "execution_count": 17,
   "metadata": {},
   "outputs": [
    {
     "data": {
      "text/plain": [
       "Flow(\n",
       "  (_transform): CompositeTransform(\n",
       "    (_transforms): ModuleList(\n",
       "      (0): ReversePermutation()\n",
       "      (1): MaskedAffineAutoregressiveTransform(\n",
       "        (autoregressive_net): MADE(\n",
       "          (initial_layer): MaskedLinear(in_features=8, out_features=50, bias=True)\n",
       "          (blocks): ModuleList(\n",
       "            (0): MaskedFeedforwardBlock(\n",
       "              (batch_norm): BatchNorm1d(50, eps=0.001, momentum=0.1, affine=True, track_running_stats=True)\n",
       "              (linear): MaskedLinear(in_features=50, out_features=50, bias=True)\n",
       "              (dropout): Dropout(p=0.0, inplace=False)\n",
       "            )\n",
       "            (1): MaskedFeedforwardBlock(\n",
       "              (batch_norm): BatchNorm1d(50, eps=0.001, momentum=0.1, affine=True, track_running_stats=True)\n",
       "              (linear): MaskedLinear(in_features=50, out_features=50, bias=True)\n",
       "              (dropout): Dropout(p=0.0, inplace=False)\n",
       "            )\n",
       "          )\n",
       "          (final_layer): MaskedLinear(in_features=50, out_features=16, bias=True)\n",
       "        )\n",
       "      )\n",
       "      (2): ReversePermutation()\n",
       "      (3): MaskedAffineAutoregressiveTransform(\n",
       "        (autoregressive_net): MADE(\n",
       "          (initial_layer): MaskedLinear(in_features=8, out_features=50, bias=True)\n",
       "          (blocks): ModuleList(\n",
       "            (0): MaskedFeedforwardBlock(\n",
       "              (batch_norm): BatchNorm1d(50, eps=0.001, momentum=0.1, affine=True, track_running_stats=True)\n",
       "              (linear): MaskedLinear(in_features=50, out_features=50, bias=True)\n",
       "              (dropout): Dropout(p=0.0, inplace=False)\n",
       "            )\n",
       "            (1): MaskedFeedforwardBlock(\n",
       "              (batch_norm): BatchNorm1d(50, eps=0.001, momentum=0.1, affine=True, track_running_stats=True)\n",
       "              (linear): MaskedLinear(in_features=50, out_features=50, bias=True)\n",
       "              (dropout): Dropout(p=0.0, inplace=False)\n",
       "            )\n",
       "          )\n",
       "          (final_layer): MaskedLinear(in_features=50, out_features=16, bias=True)\n",
       "        )\n",
       "      )\n",
       "      (4): ReversePermutation()\n",
       "      (5): MaskedAffineAutoregressiveTransform(\n",
       "        (autoregressive_net): MADE(\n",
       "          (initial_layer): MaskedLinear(in_features=8, out_features=50, bias=True)\n",
       "          (blocks): ModuleList(\n",
       "            (0): MaskedFeedforwardBlock(\n",
       "              (batch_norm): BatchNorm1d(50, eps=0.001, momentum=0.1, affine=True, track_running_stats=True)\n",
       "              (linear): MaskedLinear(in_features=50, out_features=50, bias=True)\n",
       "              (dropout): Dropout(p=0.0, inplace=False)\n",
       "            )\n",
       "            (1): MaskedFeedforwardBlock(\n",
       "              (batch_norm): BatchNorm1d(50, eps=0.001, momentum=0.1, affine=True, track_running_stats=True)\n",
       "              (linear): MaskedLinear(in_features=50, out_features=50, bias=True)\n",
       "              (dropout): Dropout(p=0.0, inplace=False)\n",
       "            )\n",
       "          )\n",
       "          (final_layer): MaskedLinear(in_features=50, out_features=16, bias=True)\n",
       "        )\n",
       "      )\n",
       "      (6): ReversePermutation()\n",
       "      (7): MaskedAffineAutoregressiveTransform(\n",
       "        (autoregressive_net): MADE(\n",
       "          (initial_layer): MaskedLinear(in_features=8, out_features=50, bias=True)\n",
       "          (blocks): ModuleList(\n",
       "            (0): MaskedFeedforwardBlock(\n",
       "              (batch_norm): BatchNorm1d(50, eps=0.001, momentum=0.1, affine=True, track_running_stats=True)\n",
       "              (linear): MaskedLinear(in_features=50, out_features=50, bias=True)\n",
       "              (dropout): Dropout(p=0.0, inplace=False)\n",
       "            )\n",
       "            (1): MaskedFeedforwardBlock(\n",
       "              (batch_norm): BatchNorm1d(50, eps=0.001, momentum=0.1, affine=True, track_running_stats=True)\n",
       "              (linear): MaskedLinear(in_features=50, out_features=50, bias=True)\n",
       "              (dropout): Dropout(p=0.0, inplace=False)\n",
       "            )\n",
       "          )\n",
       "          (final_layer): MaskedLinear(in_features=50, out_features=16, bias=True)\n",
       "        )\n",
       "      )\n",
       "      (8): ReversePermutation()\n",
       "      (9): MaskedAffineAutoregressiveTransform(\n",
       "        (autoregressive_net): MADE(\n",
       "          (initial_layer): MaskedLinear(in_features=8, out_features=50, bias=True)\n",
       "          (blocks): ModuleList(\n",
       "            (0): MaskedFeedforwardBlock(\n",
       "              (batch_norm): BatchNorm1d(50, eps=0.001, momentum=0.1, affine=True, track_running_stats=True)\n",
       "              (linear): MaskedLinear(in_features=50, out_features=50, bias=True)\n",
       "              (dropout): Dropout(p=0.0, inplace=False)\n",
       "            )\n",
       "            (1): MaskedFeedforwardBlock(\n",
       "              (batch_norm): BatchNorm1d(50, eps=0.001, momentum=0.1, affine=True, track_running_stats=True)\n",
       "              (linear): MaskedLinear(in_features=50, out_features=50, bias=True)\n",
       "              (dropout): Dropout(p=0.0, inplace=False)\n",
       "            )\n",
       "          )\n",
       "          (final_layer): MaskedLinear(in_features=50, out_features=16, bias=True)\n",
       "        )\n",
       "      )\n",
       "    )\n",
       "  )\n",
       "  (_distribution): StandardNormal()\n",
       "  (_embedding_net): Identity()\n",
       ")"
      ]
     },
     "execution_count": 17,
     "metadata": {},
     "output_type": "execute_result"
    }
   ],
   "source": [
    "prior.flow.eval()"
   ]
  },
  {
   "cell_type": "code",
   "execution_count": 20,
   "metadata": {},
   "outputs": [
    {
     "name": "stdout",
     "output_type": "stream",
     "text": [
      "pca30\n",
      "Training neural network. Epochs trained:  3\r"
     ]
    },
    {
     "data": {
      "application/vnd.jupyter.widget-view+json": {
       "model_id": "ad1db68094ad459b8fba0e1a1f41dc97",
       "version_major": 2,
       "version_minor": 0
      },
      "text/plain": [
       "Drawing 1000 posterior samples:   0%|          | 0/1000 [00:00<?, ?it/s]"
      ]
     },
     "metadata": {},
     "output_type": "display_data"
    }
   ],
   "source": [
    "input_type_list = list(posterior_state_dicts.keys())\n",
    "input_type = input_type_list[0]\n",
    "print(input_type)\n",
    "\n",
    "posterior_dict = posterior_state_dicts[input_type]\n",
    "state_dict = posterior_dict['posterior']\n",
    "n_params = posterior_dict['n_params']\n",
    "n_sims = posterior_dict['n_sims']\n",
    "input_dict = posterior_dict['input_dict']\n",
    "\n",
    "embedding_net =  input_dict['embedding_func'](**input_dict['embedding_dict'])\n",
    "\n",
    "num_samples = 1000\n",
    "all_labels = list(prior_dict.keys())\n",
    "all_bounds = [param_dict['bounds'] for param_dict in prior_dict.values()]\n",
    "\n",
    "load_info = {'x_train': posterior_dict['input_dict']['feature_func'](dpl_orig), \n",
    "                 'x_cond': posterior_dict['input_dict']['feature_func'](dpl_filter[1,:].reshape(1,-1))}\n",
    "\n",
    "posterior = load_posterior(state_dict=state_dict,\n",
    "                               x_infer=torch.tensor(load_info['x_train'][:10,:]).float(),\n",
    "                               theta_infer=torch.tensor(theta_orig[:10,:]), prior=prior, embedding_net=embedding_net)\n",
    "\n",
    "posterior_samples = posterior.sample((num_samples,), x=torch.tensor(load_info['x_cond']))\n"
   ]
  },
  {
   "cell_type": "code",
   "execution_count": null,
   "metadata": {},
   "outputs": [],
   "source": []
  },
  {
   "cell_type": "code",
   "execution_count": 22,
   "metadata": {},
   "outputs": [],
   "source": [
    "theta_samples_transformed = linear_scale_array(theta_samples.numpy(), all_bounds)\n",
    "theta_df_dict = {name: theta_samples_transformed[:, idx] for idx, name in enumerate(all_labels)}\n",
    "theta_df = pd.DataFrame(theta_df_dict)\n",
    "theta_df = theta_df.iloc[:, 4:]\n",
    "\n",
    "posterior_samples_transformed = linear_scale_array(posterior_samples.numpy(), all_bounds, constrain_value=False)\n",
    "posterior_df_dict = {name: posterior_samples_transformed[:, idx] for idx, name in enumerate(all_labels)}\n",
    "posterior_df = pd.DataFrame(posterior_df_dict)\n",
    "posterior_df = posterior_df.iloc[:, 4:]\n"
   ]
  },
  {
   "cell_type": "code",
   "execution_count": 26,
   "metadata": {},
   "outputs": [],
   "source": [
    "df = pd.concat([theta_df, posterior_df])\n",
    "df['cond'] = np.concatenate([np.repeat('Prior', num_samples), np.repeat('Posterior', num_samples)])"
   ]
  },
  {
   "cell_type": "code",
   "execution_count": null,
   "metadata": {},
   "outputs": [],
   "source": []
  },
  {
   "cell_type": "code",
   "execution_count": 28,
   "metadata": {},
   "outputs": [],
   "source": [
    "tick_dict = dict()\n",
    "nval_samples = 10\n",
    "for p_idx, param_dict in enumerate(prior_dict.values()):\n",
    "    bounds = param_dict['bounds']\n",
    "    ticks = np.round(np.linspace(bounds[0], bounds[1], nval_samples), decimals=2)\n",
    "    tick_dict[f'p{p_idx}_tick_pos'] = ticks\n",
    "    \n",
    "    ticks = ticks.astype(str)\n",
    "    ticks[1:-1] = np.repeat('', nval_samples-2)\n",
    "    tick_dict[f'p{p_idx}_tick_labels'] = ticks"
   ]
  },
  {
   "cell_type": "code",
   "execution_count": null,
   "metadata": {},
   "outputs": [],
   "source": []
  },
  {
   "cell_type": "code",
   "execution_count": 38,
   "metadata": {},
   "outputs": [
    {
     "data": {
      "image/png": "[encoded data removed]",
      "text/plain": [
       "<Figure size 720x720 with 20 Axes>"
      ]
     },
     "metadata": {
      "needs_background": "light"
     },
     "output_type": "display_data"
    }
   ],
   "source": [
    "%matplotlib inline\n",
    "labelsize=25\n",
    "ticksize=15\n",
    "\n",
    "param_labels = ['$P_{\\sigma^2}$ ($\\mathrm{ms}^2$)', '$D_{\\sigma^2}$ ($\\mathrm{ms}^2$)', '$P_\\mu$ (ms)', '$D_\\mu$ (ms)']\n",
    "\n",
    "all_bounds = [param_dict['bounds'] for param_dict in prior_dict.values()][4:]\n",
    "g = sns.PairGrid(df, diag_sharey=False, corner=False, hue='cond')\n",
    "g.map_lower(sns.kdeplot, fill=True, common_norm=False)\n",
    "g.map_diag(sns.kdeplot, fill=True)\n",
    "\n",
    "for idx in range(4):    \n",
    "    g.axes[idx, idx].set_xlim(all_bounds[idx])\n",
    "    g.axes[idx, idx].set_ylim(all_bounds[idx])\n",
    "\n",
    "    g.axes[idx,0].set_ylabel(param_labels[idx], fontsize=labelsize)\n",
    "    g.axes[3,idx].set_xlabel(param_labels[idx], fontsize=labelsize)\n",
    "\n",
    "            \n",
    "    g.axes[idx, 0].set_yticks(tick_dict[f'p{idx+4}_tick_pos'])\n",
    "    g.axes[3, idx].set_xticks(tick_dict[f'p{idx+4}_tick_pos'])\n",
    "    g.axes[idx, 0].set_yticklabels(tick_dict[f'p{idx+4}_tick_labels'], fontsize=ticksize, rotation=0)\n",
    "    g.axes[3, idx].set_xticklabels(tick_dict[f'p{idx+4}_tick_labels'], fontsize=ticksize, rotation=0)\n",
    "    \n",
    "plt.tight_layout()\n",
    "plt.savefig('../figures/filtered_distribution.svg')"
   ]
  },
  {
   "cell_type": "code",
   "execution_count": null,
   "metadata": {},
   "outputs": [],
   "source": []
  },
  {
   "cell_type": "code",
   "execution_count": null,
   "metadata": {},
   "outputs": [],
   "source": []
  },
  {
   "cell_type": "code",
   "execution_count": null,
   "metadata": {},
   "outputs": [],
   "source": []
  },
  {
   "cell_type": "code",
   "execution_count": null,
   "metadata": {},
   "outputs": [],
   "source": []
  },
  {
   "cell_type": "code",
   "execution_count": null,
   "metadata": {},
   "outputs": [],
   "source": []
  }
 ],
 "metadata": {
  "kernelspec": {
   "display_name": "Python (sbi)",
   "language": "python",
   "name": "sbi"
  },
  "language_info": {
   "codemirror_mode": {
    "name": "ipython",
    "version": 3
   },
   "file_extension": ".py",
   "mimetype": "text/x-python",
   "name": "python",
   "nbconvert_exporter": "python",
   "pygments_lexer": "ipython3",
   "version": "3.8.11"
  }
 },
 "nbformat": 4,
 "nbformat_minor": 4
}
